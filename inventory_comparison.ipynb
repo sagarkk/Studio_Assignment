{
 "cells": [
  {
   "cell_type": "markdown",
   "metadata": {},
   "source": [
    "## IMPORTS"
   ]
  },
  {
   "cell_type": "code",
   "execution_count": 26,
   "metadata": {},
   "outputs": [],
   "source": [
    "import pandas as pd\n",
    "import statistics as st\n",
    "import sqlite3"
   ]
  },
  {
   "cell_type": "markdown",
   "metadata": {},
   "source": [
    "## FETCH DATA FROM CSV"
   ]
  },
  {
   "cell_type": "code",
   "execution_count": 3,
   "metadata": {},
   "outputs": [],
   "source": [
    "booking = pd.read_csv('booking_nyc.csv')\n",
    "trivago = pd.read_csv('trivago_nyc.csv') # Extra datasets can be parsed similarly and added to website_list"
   ]
  },
  {
   "cell_type": "markdown",
   "metadata": {},
   "source": [
    "## FETCH DATA FROM DATABASE"
   ]
  },
  {
   "cell_type": "code",
   "execution_count": 27,
   "metadata": {},
   "outputs": [],
   "source": [
    "conn = sqlite3.connect('hotel_booking_nyc.db')\n",
    "\n",
    "booking = pd.read_sql('SELECT * FROM booking_hotel_table', conn)\n",
    "trivago = pd.read_sql('SELECT * FROM trivago_hotel_table', conn) # Extra datasets can be parsed similarly and added to website_list"
   ]
  },
  {
   "cell_type": "markdown",
   "metadata": {},
   "source": [
    "## PRE-PROCESSING"
   ]
  },
  {
   "cell_type": "code",
   "execution_count": 28,
   "metadata": {},
   "outputs": [],
   "source": [
    "websites_data = {\"booking\":booking, \"trivago\":trivago} # Extra dataset need to be appended to this dictionary\n",
    "websites = list(websites_data.keys())\n",
    "\n",
    "def convert_price(price_str):\n",
    "    cleaned_price = price_str.replace(',', '')[1:]\n",
    "    return int(cleaned_price)\n",
    "\n",
    "def count_elements(lst):\n",
    "\tcounts = {i: 0 for i in range(1, 6)} \n",
    "\tfor element in lst:\n",
    "\t\tcounts[element] += 1\n",
    "\treturn tuple((k, counts[k]) for k in range(1, 6))\n"
   ]
  },
  {
   "cell_type": "markdown",
   "metadata": {},
   "source": [
    "## INVENTORY COMPARISON"
   ]
  },
  {
   "cell_type": "markdown",
   "metadata": {},
   "source": [
    "1. Hotel listing score (Score out of 5)"
   ]
  },
  {
   "cell_type": "code",
   "execution_count": 40,
   "metadata": {},
   "outputs": [],
   "source": [
    "def hotel_listing():\n",
    "    hotel_list = {}\n",
    "    all_hotel_list = set()\n",
    "\n",
    "    for website in websites:\n",
    "        hotel_list[website] = websites_data[website]['Hotel Name'].tolist()\n",
    "        all_hotel_list = all_hotel_list | set(hotel_list[website])\n",
    "\n",
    "    listing_score = {}\n",
    "    for website in websites:\n",
    "        listing_score[website] = (len(hotel_list[website])*5)/len(all_hotel_list)\n",
    "\n",
    "    #Print listing score for each website\n",
    "    for website, score in listing_score.items():\n",
    "        print(f\"The listing score for {website} is {score}\")\n",
    "    \n",
    "    return listing_score\n"
   ]
  },
  {
   "cell_type": "markdown",
   "metadata": {},
   "source": [
    "2. Price variability score (Score out of 5)"
   ]
  },
  {
   "cell_type": "code",
   "execution_count": 41,
   "metadata": {},
   "outputs": [],
   "source": [
    "def compare_price_variability():\n",
    "    price_list = {}\n",
    "\n",
    "    for website in websites:\n",
    "        price_list[website] = [convert_price(price) for price in websites_data[website]['Price'].tolist()]\n",
    "\n",
    "    price_variability_score = {}\n",
    "    for website in websites:\n",
    "        price_variability_score[website] = (st.stdev(price_list[website])/st.mean(price_list[website])) * 5 \n",
    "\n",
    "    #Print price variability score for each website\n",
    "    for website, score in price_variability_score.items():\n",
    "        print(f\"The price variability score for {website} is {score}\")\n",
    "    \n",
    "    return price_variability_score"
   ]
  },
  {
   "cell_type": "markdown",
   "metadata": {},
   "source": [
    "3. Star coverage score (Score out of 5)"
   ]
  },
  {
   "cell_type": "code",
   "execution_count": 42,
   "metadata": {},
   "outputs": [],
   "source": [
    "def star_coverage():\n",
    "    hotel_star_list = {}\n",
    "    all_hotel_and_star_list = set()\n",
    "\n",
    "    for website in websites:\n",
    "        hotel_star_list[website] = list(zip(websites_data[website]['Hotel Name'], websites_data[website]['Star']))\n",
    "        all_hotel_and_star_list.update(hotel_star_list[website])\n",
    "    \n",
    "    # Extract star ratings from the combined list\n",
    "    all_star_list = [t[1] for t in all_hotel_and_star_list]\n",
    "\n",
    "    # Count star ratings for each website\n",
    "    website_star_counts = {}\n",
    "    for website, hotel_stars in hotel_star_list.items():\n",
    "        star_list = [t[1] for t in hotel_stars]\n",
    "        website_star_counts[website] = count_elements(star_list)\n",
    "\n",
    "    # Count star ratings for the combined list (all websites)\n",
    "    all_star = count_elements(all_star_list)\n",
    "\n",
    "    #Calculate coverage scores for each website\n",
    "    star_coverage_scores = {}\n",
    "    for website, star_counts in website_star_counts.items():\n",
    "        star_coverage_scores[website] = sum((website_star[1] / all_star[1]) for website_star, all_star in zip(star_counts, all_star))\n",
    "\n",
    "    #Print star coverage score for each website\n",
    "    for website, score in star_coverage_scores.items():\n",
    "        print(f\"The star coverage score for {website} is {score}\")\n",
    "\n",
    "    return star_coverage_scores\n",
    "    \n"
   ]
  },
  {
   "cell_type": "markdown",
   "metadata": {},
   "source": [
    "4. Average rating score (Score out of 5)"
   ]
  },
  {
   "cell_type": "code",
   "execution_count": 43,
   "metadata": {},
   "outputs": [],
   "source": [
    "def average_rating():\n",
    "    hotel_rating_list = {}\n",
    "\n",
    "    for website in websites:\n",
    "        hotel_rating_list[website] = [float(x) for x in websites_data[website]['Rating']]\n",
    "\n",
    "    rating_score_scores = {}\n",
    "\n",
    "    for website, rating_list in hotel_rating_list.items():\n",
    "        rating_score_scores[website] = sum(rating_list)/(2*len([x for x in rating_list if x!=0]))\n",
    "\n",
    "    #Print average rating score for each website\n",
    "    for website, score in rating_score_scores.items():\n",
    "        print(f\"The average rating score for {website} is {score}\")\n",
    "\n",
    "    return rating_score_scores   "
   ]
  },
  {
   "cell_type": "markdown",
   "metadata": {},
   "source": [
    "## FINAL SCORE"
   ]
  },
  {
   "cell_type": "code",
   "execution_count": 45,
   "metadata": {},
   "outputs": [
    {
     "name": "stdout",
     "output_type": "stream",
     "text": [
      "The listing score for booking is 3.8984674329501914\n",
      "The listing score for trivago is 4.262452107279693\n",
      "The price variability score for booking is 3.216268167056776\n",
      "The price variability score for trivago is 2.8535144043397405\n",
      "The star coverage score for booking is 3.5270542276573407\n",
      "The star coverage score for trivago is 4.119924340683095\n",
      "The average rating score for booking is 3.974543080939948\n",
      "The average rating score for trivago is 4.133146067415731\n"
     ]
    }
   ],
   "source": [
    "hotel_listing_score = hotel_listing()\n",
    "price_variablity_score = compare_price_variability()\n",
    "star_coverage_score = star_coverage()\n",
    "average_rating_score = average_rating()\n",
    "\n",
    "final_score = {}\n",
    "\n",
    "for website in websites:\n",
    "    final_score[website] = hotel_listing_score[website] + price_variablity_score[website] + star_coverage_score[website] + average_rating_score[website]"
   ]
  },
  {
   "cell_type": "code",
   "execution_count": 47,
   "metadata": {},
   "outputs": [
    {
     "name": "stdout",
     "output_type": "stream",
     "text": [
      "The final score regarding superior inventory for booking is 14.61633 out of 20\n",
      "The final score regarding superior inventory for trivago is 15.36904 out of 20\n"
     ]
    }
   ],
   "source": [
    "#Print final scores for each website\n",
    "for website, score in final_score.items():\n",
    "    print(f\"The final score regarding superior inventory for {website} is {score:.5f} out of 20\")"
   ]
  }
 ],
 "metadata": {
  "kernelspec": {
   "display_name": "Python 3",
   "language": "python",
   "name": "python3"
  },
  "language_info": {
   "codemirror_mode": {
    "name": "ipython",
    "version": 3
   },
   "file_extension": ".py",
   "mimetype": "text/x-python",
   "name": "python",
   "nbconvert_exporter": "python",
   "pygments_lexer": "ipython3",
   "version": "3.12.6"
  }
 },
 "nbformat": 4,
 "nbformat_minor": 2
}
