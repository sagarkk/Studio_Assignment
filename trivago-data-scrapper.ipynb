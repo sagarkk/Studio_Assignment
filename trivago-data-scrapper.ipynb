{
 "cells": [
  {
   "cell_type": "code",
   "execution_count": 8,
   "metadata": {},
   "outputs": [],
   "source": [
    "from selenium import webdriver\n",
    "from selenium.webdriver.chrome.service import Service\n",
    "from selenium.webdriver.common.by import By\n",
    "from selenium.webdriver.chrome.options import Options\n",
    "from selenium.webdriver import ActionChains\n",
    "from webdriver_manager.chrome import ChromeDriverManager\n",
    "import pandas as pd\n",
    "import time\n",
    "from selenium.webdriver.support.ui import WebDriverWait\n",
    "from selenium.webdriver.support import expected_conditions as EC\n",
    "from selenium.common.exceptions import NoSuchElementException\n",
    "from sqlalchemy import create_engine\n",
    "import sqlite3"
   ]
  },
  {
   "cell_type": "code",
   "execution_count": 73,
   "metadata": {},
   "outputs": [],
   "source": [
    "path = '/Applications/Driver/chromedriver-mac-arm64/chromedriver'\n",
    "chrome_options = Options()\n",
    "chrome_options.add_argument(\"--no-sandbox\")\n",
    "chrome_options.add_argument(\"--disable-dev-shm-usage\")\n",
    "chrome_options.add_argument(\"--disable-gpu\")\n",
    "chrome_options.add_argument(\"--window-size=1920,1080\")\n",
    "driver = webdriver.Chrome(service=Service(executable_path=path), options=chrome_options)"
   ]
  },
  {
   "cell_type": "code",
   "execution_count": 74,
   "metadata": {},
   "outputs": [],
   "source": [
    "url='https://www.trivago.com/en-INR/lm/hotels-new-york-new-york-state?search=200-14734;dr-20241007-20241010-s;rc-1-1'"
   ]
  },
  {
   "cell_type": "code",
   "execution_count": 70,
   "metadata": {},
   "outputs": [],
   "source": [
    "def is_element_present(htl, by, value):\n",
    "    try:\n",
    "        htl.find_element(by, value)\n",
    "        return True\n",
    "    except NoSuchElementException:\n",
    "        return False"
   ]
  },
  {
   "cell_type": "code",
   "execution_count": null,
   "metadata": {},
   "outputs": [],
   "source": [
    "hotel_names = []\n",
    "hotel_prices = []\n",
    "hotel_stars = []\n",
    "hotel_rating = []\n",
    "\n",
    "wait = WebDriverWait(driver, 15)\n",
    "driver.get(url)\n",
    "\n",
    "for i in range(2,12):\n",
    "    driver.execute_script(\"window.scrollTo(0,document.body.scrollHeight);\")\n",
    "    time.sleep(15)\n",
    "    all_hotels = driver.find_elements(By.CSS_SELECTOR, \"div[class='slideout-container_wrapper__cVquW slideout-container_withShadow__FqUic']\")\n",
    "\n",
    "    print(len(set(all_hotels)))\n",
    "\n",
    "    for hotel in all_hotels:\n",
    "        rating = \"0\"\n",
    "        name = hotel.find_element(By.CSS_SELECTOR,\"button[class='item-name_button__1e5cV truncate_truncate__vCzPM']\").find_element(By.CSS_SELECTOR,\"span[itemprop='name']\")\n",
    "        price = hotel.find_element(By.CSS_SELECTOR,\"p[data-testid='price-per-stay']\").find_element(By.CSS_SELECTOR,\"strong\")\n",
    "        stars = len(hotel.find_elements(By.CSS_SELECTOR,\"span[data-testid='star']\"))\n",
    "        if is_element_present(hotel, By.CSS_SELECTOR,\"span[itemprop='ratingValue']\"):\n",
    "            rating = hotel.find_element(By.CSS_SELECTOR,\"span[itemprop='ratingValue']\").text\n",
    "    \n",
    "        if name and price and stars and rating != \"0\":\n",
    "            hotel_names.append(name.text)\n",
    "            hotel_prices.append(price.text)\n",
    "            hotel_stars.append(stars)\n",
    "            hotel_rating.append(rating)\n",
    "\n",
    "    print(len(hotel_names))\n",
    "    time.sleep(5)\n",
    "    wait.until(EC.element_to_be_clickable((By.CSS_SELECTOR,\"span[class='Icon_wrapper__B6IoS Icon_m__qOPUh Pagination_icon__2IRJL']\"))).click()\n",
    "    \n",
    "driver.quit()\n",
    "print(hotel_names)\n",
    "\n",
    "# Create a DataFrame and save to CSV\n",
    "trivago = pd.DataFrame({\n",
    "    'Hotel Name': hotel_names,\n",
    "    'Price': hotel_prices,\n",
    "    'Star': hotel_stars,\n",
    "    'Rating': hotel_rating\n",
    "})\n",
    "print(trivago)"
   ]
  },
  {
   "cell_type": "markdown",
   "metadata": {},
   "source": [
    "## PUSHING DATA TO CSV"
   ]
  },
  {
   "cell_type": "code",
   "execution_count": 79,
   "metadata": {},
   "outputs": [],
   "source": [
    "trivago.to_csv('trivago_nyc.csv', index=False)"
   ]
  },
  {
   "cell_type": "markdown",
   "metadata": {},
   "source": [
    "## PUSHING DATA TO DATABASE"
   ]
  },
  {
   "cell_type": "code",
   "execution_count": null,
   "metadata": {},
   "outputs": [],
   "source": [
    "# Establish a connection to SQLite database\n",
    "engine = create_engine('sqlite:///hotel_booking_nyc.db', echo=True)\n",
    "\n",
    "# Insert DataFrame into the database table\n",
    "trivago.to_sql('trivago_hotel_table', con=engine, if_exists='replace', index=False)\n",
    "\n",
    "# Verify the data insertion\n",
    "conn = sqlite3.connect('hotel_booking_nyc.db')\n",
    "cursor = conn.cursor()\n",
    "cursor.execute(\"SELECT * FROM trivago_hotel_table\")\n",
    "rows = cursor.fetchall()\n",
    "\n",
    "for row in rows:\n",
    "    print(row)\n",
    "\n",
    "conn.close()"
   ]
  }
 ],
 "metadata": {
  "kernelspec": {
   "display_name": "Python 3",
   "language": "python",
   "name": "python3"
  },
  "language_info": {
   "codemirror_mode": {
    "name": "ipython",
    "version": 3
   },
   "file_extension": ".py",
   "mimetype": "text/x-python",
   "name": "python",
   "nbconvert_exporter": "python",
   "pygments_lexer": "ipython3",
   "version": "3.12.6"
  }
 },
 "nbformat": 4,
 "nbformat_minor": 2
}
