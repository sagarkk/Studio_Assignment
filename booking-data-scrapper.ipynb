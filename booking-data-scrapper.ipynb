{
 "cells": [
  {
   "cell_type": "code",
   "execution_count": 2,
   "metadata": {},
   "outputs": [],
   "source": [
    "from selenium import webdriver\n",
    "from selenium.webdriver.chrome.service import Service\n",
    "from selenium.webdriver.common.by import By\n",
    "from selenium.webdriver.chrome.options import Options\n",
    "from selenium.webdriver import ActionChains\n",
    "from webdriver_manager.chrome import ChromeDriverManager\n",
    "import pandas as pd\n",
    "import time\n",
    "from selenium.webdriver.support.ui import WebDriverWait\n",
    "from selenium.webdriver.support import expected_conditions as EC\n",
    "from selenium.common.exceptions import NoSuchElementException\n",
    "from sqlalchemy import create_engine\n",
    "import sqlite3"
   ]
  },
  {
   "cell_type": "code",
   "execution_count": 2,
   "metadata": {},
   "outputs": [],
   "source": [
    "path = '/Applications/Driver/chromedriver_mac64/chromedriver'\n",
    "chrome_options = Options()\n",
    "chrome_options.add_argument(\"--no-sandbox\")\n",
    "chrome_options.add_argument(\"--disable-dev-shm-usage\")\n",
    "driver = webdriver.Chrome(service=Service(ChromeDriverManager().install()), options=chrome_options)"
   ]
  },
  {
   "cell_type": "code",
   "execution_count": 3,
   "metadata": {},
   "outputs": [],
   "source": [
    "url = 'https://www.booking.com/searchresults.en-gb.html?ss=New+York&ssne=New+York&ssne_untouched=New+York&label=gen173nr-1FCAEoggI46AdIM1gEaGyIAQGYAQm4AQfIAQ3YAQHoAQH4AQOIAgGoAgO4AoP1mbcGwAIB0gIkMTEyN2NhOWUtNzYwYS00MDVmLWEyODctZTEwYTQ2MmFjYjIx2AIG4AIB&aid=304142&lang=en-gb&sb=1&src_elem=sb&src=searchresults&dest_id=20088325&dest_type=city&checkin=2024-10-07&checkout=2024-10-10&group_adults=1&no_rooms=1&group_children=0'"
   ]
  },
  {
   "cell_type": "code",
   "execution_count": 4,
   "metadata": {},
   "outputs": [],
   "source": [
    "wait = WebDriverWait(driver, 20)\n",
    "\n",
    "driver.get(url)\n",
    "for i in range(1,20):\n",
    "    driver.execute_script(\"window.scrollTo(0,document.body.scrollHeight);\")\n",
    "    wait.until(EC.element_to_be_clickable((By.XPATH,\"//span[contains(text(), 'Load more results')]\"))).click()\n"
   ]
  },
  {
   "cell_type": "code",
   "execution_count": 9,
   "metadata": {},
   "outputs": [],
   "source": [
    "def is_element_present(htl, by, value):\n",
    "    try:\n",
    "        htl.find_element(by, value)\n",
    "        return True\n",
    "    except NoSuchElementException:\n",
    "        return False"
   ]
  },
  {
   "cell_type": "code",
   "execution_count": null,
   "metadata": {},
   "outputs": [],
   "source": [
    "# Lists to store hotel names and prices\n",
    "hotel_names = []\n",
    "hotel_prices = []\n",
    "hotel_stars = []\n",
    "hotel_rating = []\n",
    "\n",
    "all_hotels = driver.find_elements(By.CSS_SELECTOR, \"div[class='c624d7469d a0e60936ad a3214e5942 b0db0e8ada']\")\n",
    "\n",
    "print(len(set(all_hotels)))\n",
    "\n",
    "for hotel in all_hotels:\n",
    "    rating = \"0\"\n",
    "    name = hotel.find_element(By.CSS_SELECTOR,\"div[class='f6431b446c a15b38c233']\")\n",
    "    price = hotel.find_element(By.CSS_SELECTOR,\"span[class='f6431b446c fbfd7c1165 e84eb96b1f']\")\n",
    "    stars = len(hotel.find_elements(By.CSS_SELECTOR,\"span[class='fcd9eec8fb d31eda6efc c25361c37f']\"))\n",
    "    if is_element_present(hotel, By.CSS_SELECTOR,\"div[class='a3b8729ab1 d86cee9b25']\"):\n",
    "        rating = hotel.find_element(By.CSS_SELECTOR,\"div[class='a3b8729ab1 d86cee9b25']\").find_element(By.CSS_SELECTOR,\"div[class='ac4a7896c7']\").text[7:]\n",
    "    \n",
    "    if name and price and stars:\n",
    "        hotel_names.append(name.text)\n",
    "        hotel_prices.append(price.text)\n",
    "        hotel_stars.append(stars)\n",
    "        hotel_rating.append(rating)\n",
    "\n",
    "print(hotel_names)\n",
    "\n",
    "# Create a DataFrame and save to CSV\n",
    "booking = pd.DataFrame({\n",
    "    'Hotel Name': hotel_names,\n",
    "    'Price': hotel_prices,\n",
    "    'Star': hotel_stars,\n",
    "    'Rating': hotel_rating\n",
    "})\n",
    "print(booking)\n"
   ]
  },
  {
   "cell_type": "markdown",
   "metadata": {},
   "source": [
    "## PUSHING DATA TO CSV"
   ]
  },
  {
   "cell_type": "code",
   "execution_count": 13,
   "metadata": {},
   "outputs": [],
   "source": [
    "booking.to_csv('booking_nyc.csv', index=False)"
   ]
  },
  {
   "cell_type": "markdown",
   "metadata": {},
   "source": [
    "## PUSHING DATA TO DATABASE"
   ]
  },
  {
   "cell_type": "code",
   "execution_count": null,
   "metadata": {},
   "outputs": [],
   "source": [
    "# Establish a connection to SQLite database\n",
    "engine = create_engine('sqlite:///hotel_booking_nyc.db', echo=True)\n",
    "\n",
    "# Step 3: Insert DataFrame into the database table\n",
    "booking.to_sql('booking_hotel_table', con=engine, if_exists='replace', index=False)\n",
    "\n",
    "# Step 4: Verify the data insertion\n",
    "conn = sqlite3.connect('hotel_booking_nyc.db')\n",
    "cursor = conn.cursor()\n",
    "cursor.execute(\"SELECT * FROM booking_hotel_table\")\n",
    "rows = cursor.fetchall()\n",
    "\n",
    "for row in rows:\n",
    "    print(row)\n",
    "\n",
    "conn.close()"
   ]
  }
 ],
 "metadata": {
  "kernelspec": {
   "display_name": "Python 3",
   "language": "python",
   "name": "python3"
  },
  "language_info": {
   "codemirror_mode": {
    "name": "ipython",
    "version": 3
   },
   "file_extension": ".py",
   "mimetype": "text/x-python",
   "name": "python",
   "nbconvert_exporter": "python",
   "pygments_lexer": "ipython3",
   "version": "3.12.6"
  }
 },
 "nbformat": 4,
 "nbformat_minor": 2
}
