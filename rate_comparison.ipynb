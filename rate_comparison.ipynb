{
 "cells": [
  {
   "cell_type": "markdown",
   "metadata": {},
   "source": [
    "## IMPORTS"
   ]
  },
  {
   "cell_type": "code",
   "execution_count": 1,
   "metadata": {},
   "outputs": [],
   "source": [
    "import pandas as pd\n",
    "import statistics as st\n",
    "from scipy.stats import pearsonr\n",
    "import sqlite3"
   ]
  },
  {
   "cell_type": "markdown",
   "metadata": {},
   "source": [
    "## FETCH DATA FROM CSV"
   ]
  },
  {
   "cell_type": "code",
   "execution_count": 2,
   "metadata": {},
   "outputs": [],
   "source": [
    "booking = pd.read_csv('booking_nyc.csv')\n",
    "trivago = pd.read_csv('trivago_nyc.csv') # Extra datasets can be parsed similarly and added to website_list"
   ]
  },
  {
   "cell_type": "markdown",
   "metadata": {},
   "source": [
    "## FETCH DATA FROM DATABASE"
   ]
  },
  {
   "cell_type": "code",
   "execution_count": null,
   "metadata": {},
   "outputs": [],
   "source": [
    "conn = sqlite3.connect('hotel_booking_nyc.db')\n",
    "\n",
    "booking = pd.read_sql('SELECT * FROM booking_hotel_table', conn)\n",
    "trivago = pd.read_sql('SELECT * FROM trivago_hotel_table', conn) # Extra datasets can be parsed similarly and added to website_list\n",
    "\n",
    "print(trivago)"
   ]
  },
  {
   "cell_type": "markdown",
   "metadata": {},
   "source": [
    "## PRE-PROCESSING"
   ]
  },
  {
   "cell_type": "code",
   "execution_count": null,
   "metadata": {},
   "outputs": [],
   "source": [
    "website_list = {\"booking\":booking, \"trivago\":trivago} # Extra dataset need to be appended to this dictionary\n",
    "websites = list(website_list.keys())\n",
    "\n",
    "def convert_price(price_str):\n",
    "    cleaned_price = price_str.replace(',', '')[1:]\n",
    "    return int(cleaned_price)\n",
    "\n",
    "\n",
    "# Dictionary to segregrate data of each hotel website on basis of stars\n",
    "website_price_data = {} \n",
    "for name, website_df in website_list.items():\n",
    "    website_price_data[name] = {}\n",
    "    for star in range(1,6):\n",
    "        filtered_df = website_df[website_df['Star'] == star]\n",
    "        filtered_df['Price'] = filtered_df['Price'].apply(convert_price)\n",
    "        website_price_data[name][star] = list(filtered_df[['Hotel Name', 'Price', 'Rating']].itertuples(index=False, name=None))\n",
    "\n",
    "\n",
    "# Dictionary to store name and price of each hotel on website\n",
    "hotel_price_dict = {}\n",
    "for name, website_df in website_list.items():\n",
    "    hotel_price_dict[name] = website_df.set_index('Hotel Name')['Price'].to_dict()\n",
    "\n",
    "temp_dict = {}\n",
    "for website_name in hotel_price_dict.keys():\n",
    "    temp_dict[website_name] = {name: convert_price(price) for name, price in hotel_price_dict[website_name].items()}\n",
    "\n",
    "hotel_price_dict = temp_dict\n"
   ]
  },
  {
   "cell_type": "markdown",
   "metadata": {},
   "source": [
    "## RATE COMPARISON"
   ]
  },
  {
   "cell_type": "markdown",
   "metadata": {},
   "source": [
    "1. Common hotel price competitiveness(Scoring out of 5)"
   ]
  },
  {
   "cell_type": "code",
   "execution_count": 9,
   "metadata": {},
   "outputs": [],
   "source": [
    "def common_hotel_price_competitiveness():\n",
    "    # Find common hotels across all websites\n",
    "    common_hotels = set(hotel_price_dict[websites[0]].keys())  # Start with hotels from the first website\n",
    "    for website in websites[1:]:\n",
    "        common_hotels.intersection_update(hotel_price_dict[website].keys())  # Keep only hotels common across all websites\n",
    "    \n",
    "    # Calculate the website offering the minimum price for each common hotel\n",
    "    min_price_count = {website: 0 for website in websites}  # To count how often each website offers the lowest price\n",
    "    total_common_hotels = len(common_hotels)\n",
    "\n",
    "    for hotel in common_hotels:\n",
    "        prices = {website: hotel_price_dict[website][hotel] for website in websites}  # Prices of the hotel across all websites\n",
    "        min_price_website = min(prices, key=prices.get)  # Find website with minimum price\n",
    "        min_price_count[min_price_website] += 1  # Increment count for the website offering the lowest price\n",
    "\n",
    "    # Calculate the percentage of times each website offers the minimum price\n",
    "    score_cheaper = {website: (count / total_common_hotels) * 5 for website, count in min_price_count.items()}\n",
    "    \n",
    "     #Print price competitiveness scores for each website\n",
    "    for website, score in score_cheaper.items():\n",
    "        print(f\"The price competitiveness score for {website} is {score}\")\n",
    "\n",
    "    return score_cheaper"
   ]
  },
  {
   "cell_type": "markdown",
   "metadata": {},
   "source": [
    "2. Star category price competitiveness - Median and CoV(Scoring out of 5)"
   ]
  },
  {
   "cell_type": "code",
   "execution_count": 10,
   "metadata": {},
   "outputs": [],
   "source": [
    "def find_coefficient_of_variance(lst):\n",
    "    price_list = [t[1] for t in lst]  # Extract price from the tuple (name, price, ...)\n",
    "    if st.mean(price_list) == 0:  # Avoid division by zero\n",
    "        return 0\n",
    "    return st.stdev(price_list) / st.mean(price_list)\n",
    "\n",
    "#Calculate CoV scores for each website\n",
    "def calculate_cov_score():\n",
    "    cov_scores = {}\n",
    "\n",
    "    for website in websites:\n",
    "        total_cov = 0\n",
    "        # Calculate sum of CoV for all star category of each website\n",
    "        for star in range(1,6):\n",
    "            total_cov += find_coefficient_of_variance(website_price_data[website][star])\n",
    "        cov_scores[website] = 2.5 - (total_cov / 2)\n",
    "\n",
    "    #Print CoV scores for each website\n",
    "    for website, cov_score in cov_scores.items():\n",
    "        print(f\"The CoV score for {website} is {cov_score:.5f}\")\n",
    "\n",
    "    return cov_scores\n",
    "\n",
    "#Calculate Median \n",
    "def calculate_median_scores():\n",
    "\n",
    "    website_median_list = {}\n",
    "\n",
    "    #Calculate median of each star for website\n",
    "    for website in websites:\n",
    "        website_median_list[website] = []\n",
    "        for star in range(1,6):\n",
    "            website_median_list[website].append(st.median([t[1] for t in website_price_data[website][star]]))\n",
    "\n",
    "    median_scores = {website: 0 for website in website_price_data.keys()}\n",
    "\n",
    "    for star in range(1,6):\n",
    "        prices = {website: website_median_list[website][star-1] for website in website_median_list}  # Median prices of the hotel across all websites\n",
    "        min_price_website = min(prices, key=prices.get)  # Find website with minimum price\n",
    "        median_scores[min_price_website] += 1  # Increment count for the website offering the lowest price\n",
    "\n",
    "    median_scores = {website: (count / 5) * 2.5 for website, count in median_scores.items()}\n",
    "\n",
    "    #Print median scores for each website\n",
    "    for website, score in median_scores.items():\n",
    "        print(f\"The median score for {website} is {score:.5f}\")\n",
    "\n",
    "    return median_scores\n",
    "    \n",
    "\n"
   ]
  },
  {
   "cell_type": "markdown",
   "metadata": {},
   "source": [
    "3. Correlation between rating and price(Scoring out of 5)"
   ]
  },
  {
   "cell_type": "code",
   "execution_count": 11,
   "metadata": {},
   "outputs": [],
   "source": [
    "def correlation_between_price_and_rating():\n",
    "    website_price_rating_correlation_coefficient = {}\n",
    "\n",
    "    for website in websites:\n",
    "        website_price_rating_correlation_coefficient[website] = []\n",
    "        for star in range(1,6):\n",
    "            website_price_rating_correlation_coefficient[website].append(pearsonr([t[1] for t in website_price_data[website][star] if t[2]!='0'], [float(t[2]) for t in website_price_data[website][star] if t[2]!='0']).correlation)\n",
    "\n",
    "    correlation_score = {website: 0 for website in website_price_data.keys()}\n",
    "\n",
    "    for star in range(1,6):\n",
    "        correlation_coef = {website: website_price_rating_correlation_coefficient[website][star-1] for website in website_price_rating_correlation_coefficient}  \n",
    "        min_correlation_coef_website = max(correlation_coef, key=correlation_coef.get)  # Find website with maximum correlation coefficient\n",
    "        correlation_score[min_correlation_coef_website] += 1  # Increment count for the website offering the maximum correlation coefficient\n",
    "\n",
    "    #Print correlation scores for each website\n",
    "    for website, score in correlation_score.items():\n",
    "        print(f\"The correlation score for {website} is {score:.5f}\")\n",
    "\n",
    "    return correlation_score"
   ]
  },
  {
   "cell_type": "markdown",
   "metadata": {},
   "source": [
    "## FINAL SCORE"
   ]
  },
  {
   "cell_type": "code",
   "execution_count": 12,
   "metadata": {},
   "outputs": [
    {
     "name": "stdout",
     "output_type": "stream",
     "text": [
      "The price competitiveness score for booking is 4.51219512195122\n",
      "The price competitiveness score for trivago is 0.4878048780487805\n",
      "The CoV score for booking is 0.59073\n",
      "The CoV score for trivago is 1.18733\n",
      "The median score for booking is 2.00000\n",
      "The median score for trivago is 0.50000\n",
      "The correlation score for booking is 2.00000\n",
      "The correlation score for trivago is 3.00000\n"
     ]
    }
   ],
   "source": [
    "common_hotel_price_competitiveness_score = common_hotel_price_competitiveness()\n",
    "cov_score = calculate_cov_score()\n",
    "median_score = calculate_median_scores()\n",
    "price_rating_correlation_score = correlation_between_price_and_rating()\n",
    "\n",
    "final_score = {}\n",
    "\n",
    "for website in websites:\n",
    "    final_score[website] = common_hotel_price_competitiveness_score[website] + cov_score[website] + median_score[website] + price_rating_correlation_score[website]\n"
   ]
  },
  {
   "cell_type": "code",
   "execution_count": 14,
   "metadata": {},
   "outputs": [
    {
     "name": "stdout",
     "output_type": "stream",
     "text": [
      "The final score regarding better rates for booking is 9.10292 out of 15\n",
      "The final score regarding better rates for trivago is 5.17513 out of 15\n"
     ]
    }
   ],
   "source": [
    "#Print final scores for each website\n",
    "for website, score in final_score.items():\n",
    "    print(f\"The final score regarding better rates for {website} is {score:.5f} out of 15\")"
   ]
  },
  {
   "cell_type": "code",
   "execution_count": null,
   "metadata": {},
   "outputs": [],
   "source": []
  }
 ],
 "metadata": {
  "kernelspec": {
   "display_name": "Python 3",
   "language": "python",
   "name": "python3"
  },
  "language_info": {
   "codemirror_mode": {
    "name": "ipython",
    "version": 3
   },
   "file_extension": ".py",
   "mimetype": "text/x-python",
   "name": "python",
   "nbconvert_exporter": "python",
   "pygments_lexer": "ipython3",
   "version": "3.12.6"
  }
 },
 "nbformat": 4,
 "nbformat_minor": 2
}
